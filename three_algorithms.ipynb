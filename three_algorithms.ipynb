{
 "cells": [
  {
   "cell_type": "markdown",
   "metadata": {},
   "source": [
    "# Task 1"
   ]
  },
  {
   "cell_type": "markdown",
   "metadata": {},
   "source": [
    "A simple game will be developed with a rectengular grid consisting of random integers between 0 and 9. An agent starts at the upper-left corner of the grid and must reach the lower-right corner of the grid as fast as possible. The time spent on a cell is the number on this cell. \n",
    "\n",
    "In order to solve this problem, 3 algorithms will be provided:\n",
    "\n",
    "• A first baseline naive search algorithmthat is better than random movements.\n",
    "• Dijkstra's algorithm\n",
    "• Ant colony optimization algorithm\n"
   ]
  },
  {
   "cell_type": "markdown",
   "metadata": {},
   "source": [
    "## Creating the Game Board"
   ]
  },
  {
   "cell_type": "code",
   "execution_count": 3,
   "metadata": {},
   "outputs": [],
   "source": [
    "import numpy as np\n",
    "\n",
    "def create_board(rows,columns, display_grid=True):\n",
    "    \n",
    "    board= np.random.randint(1, 10, size=(rows,columns))\n",
    "    if display_grid == True:\n",
    "        print(f\"\\nCreated {rows} by {columns} grid...\\n\")\n",
    "        print(\"-\" * (4 * columns + 1))\n",
    "\n",
    "        for row in board:\n",
    "            for el in row:\n",
    "                print(f\"| {el} \",end=\"\")\n",
    "            print(\"|\")\n",
    "            print(\"-\" * (4 * columns + 1))\n",
    "   \n",
    "    return board"
   ]
  },
  {
   "cell_type": "markdown",
   "metadata": {},
   "source": [
    "We will create a board to use with 3 different algorithms. "
   ]
  },
  {
   "cell_type": "code",
   "execution_count": 2,
   "metadata": {},
   "outputs": [
    {
     "name": "stdout",
     "output_type": "stream",
     "text": [
      "\n",
      "Created 10 by 10 grid...\n",
      "\n",
      "-----------------------------------------\n",
      "| 6 | 4 | 9 | 7 | 2 | 6 | 3 | 9 | 2 | 3 |\n",
      "-----------------------------------------\n",
      "| 3 | 5 | 2 | 2 | 7 | 1 | 6 | 9 | 9 | 2 |\n",
      "-----------------------------------------\n",
      "| 8 | 2 | 9 | 9 | 9 | 1 | 9 | 8 | 8 | 5 |\n",
      "-----------------------------------------\n",
      "| 6 | 7 | 1 | 1 | 4 | 3 | 4 | 3 | 5 | 5 |\n",
      "-----------------------------------------\n",
      "| 6 | 5 | 1 | 1 | 7 | 3 | 8 | 5 | 8 | 7 |\n",
      "-----------------------------------------\n",
      "| 9 | 6 | 4 | 8 | 6 | 3 | 8 | 1 | 3 | 4 |\n",
      "-----------------------------------------\n",
      "| 9 | 6 | 7 | 4 | 2 | 5 | 5 | 7 | 4 | 1 |\n",
      "-----------------------------------------\n",
      "| 4 | 5 | 1 | 1 | 7 | 6 | 4 | 2 | 5 | 6 |\n",
      "-----------------------------------------\n",
      "| 8 | 5 | 5 | 1 | 6 | 7 | 8 | 7 | 9 | 9 |\n",
      "-----------------------------------------\n",
      "| 3 | 4 | 7 | 1 | 2 | 2 | 8 | 1 | 8 | 3 |\n",
      "-----------------------------------------\n"
     ]
    }
   ],
   "source": [
    "board = create_board(10, 10)"
   ]
  },
  {
   "cell_type": "markdown",
   "metadata": {},
   "source": [
    "## Naive Aproach"
   ]
  },
  {
   "cell_type": "code",
   "execution_count": 5,
   "metadata": {},
   "outputs": [],
   "source": [
    "from timeit import default_timer as timer\n",
    "\n",
    "class NaiveApp():\n",
    "    \"\"\" The naive approach class attempts to find the shortest route for a given grid.\n",
    "\n",
    "    It accepts the number in the cell as the time it takes to pass that cell.\n",
    "    It starts from the top left and only moves right or downwards at each step to reach\n",
    "    the bottom right cell. It inspects the cell below and the cell on the right and chooses\n",
    "    the one with the minimum time cost.\n",
    "\n",
    "    Args:\n",
    "        grid: Numpy array representing the grid to solve.\n",
    "\n",
    "    Attributes:\n",
    "        grid: Numpy array representing the grid to solve.\n",
    "        rows: Number of rows of the grid provided.\n",
    "        columns: Number of columns of the grid provided.\n",
    "        path_chosen: List of tuples representing the cell coordinates on the quickest path.\n",
    "\n",
    "    Private Attributes:\n",
    "        neighbours: Adjacent cells below and on the right.\n",
    "        current_cell: Current cell being visited.\n",
    "        final_cell: The bottom right cell, the \"target cell\".\n",
    "\n",
    "    \"\"\"\n",
    "    def __init__(self, grid):\n",
    "        self.grid = grid\n",
    "        self.rows = grid.shape[0]\n",
    "        self.columns = grid.shape[1]\n",
    "        self.__neighbours = []\n",
    "        self.__current_cell = (0, 0)\n",
    "        self.path_chosen = []\n",
    "        self.__final_cell = (self.rows - 1, self.columns - 1)\n",
    "\n",
    "    def compute(self):\n",
    "        \"\"\" This class method computes the shortest path.\n",
    "\n",
    "        Returns:\n",
    "            The shortest path chosen as a list of coordinate tuples\n",
    "            The time taken to compute the shortest path.\n",
    "\n",
    "        \"\"\"\n",
    "\n",
    "        start = timer()\n",
    "\n",
    "        while True:\n",
    "            self.path_chosen.append(self.__current_cell)\n",
    "            if self.__current_cell == self.__final_cell:\n",
    "                break\n",
    "            self.__get_neighbours(self.__current_cell[0], self.__current_cell[1])\n",
    "            self.__current_cell = self.__choose_cell()\n",
    "            self.__neighbours.clear()\n",
    "\n",
    "        self.path_chosen.pop(0)\n",
    "        end = timer()\n",
    "        return self.path_chosen, end-start\n",
    "\n",
    "    def __get_neighbours(self, i, j):\n",
    "        \"\"\" The class method finds the adjacent cell below and on the right.\n",
    "\n",
    "        Args:\n",
    "            i: The row coordinate of the current cell.\n",
    "            j: The column coordinate of the current cell.\n",
    "\n",
    "        Returns:\n",
    "            None. Adds the coordinates of the cell to self.__neighbours list.\n",
    "\n",
    "        \"\"\"\n",
    "        if i + 1 < self.rows:\n",
    "            self.__neighbours.append((i+1, j))\n",
    "        if j + 1 < self.columns:\n",
    "            self.__neighbours.append((i, j+1))\n",
    "\n",
    "    def __choose_cell(self):\n",
    "        \"\"\" The class method chooses the next cell to visit.\n",
    "\n",
    "        It inspects neighbour cells and chooses the one with the minimum time cost.\n",
    "\n",
    "        Returns:\n",
    "            The coordinates of the next cell as a tuple\n",
    "\n",
    "        \"\"\"\n",
    "        min_cell_value = 10\n",
    "        min_cell = []\n",
    "\n",
    "        for cell in self.__neighbours:\n",
    "            if self.grid[cell] < min_cell_value:\n",
    "                min_cell_value = self.grid[cell]\n",
    "                min_cell = cell\n",
    "\n",
    "        return min_cell\n"
   ]
  },
  {
   "cell_type": "code",
   "execution_count": 4,
   "metadata": {},
   "outputs": [
    {
     "name": "stdout",
     "output_type": "stream",
     "text": [
      "Shortest path found: [(1, 0), (1, 1), (2, 1), (3, 1), (3, 2), (4, 2), (4, 3), (4, 4), (4, 5), (5, 5), (6, 5), (6, 6), (7, 6), (7, 7), (7, 8), (7, 9), (8, 9), (9, 9)]\n",
      "Time taken to solve: 4.7200000000025e-05\n"
     ]
    }
   ],
   "source": [
    "board_solver = NaiveApp(board)\n",
    "shortest_path, time = board_solver.compute()\n",
    "print(f\"Shortest path found: {shortest_path}\\nTime taken to solve: {time}\")"
   ]
  },
  {
   "cell_type": "markdown",
   "metadata": {},
   "source": [
    "## Dijkstra's algorithm"
   ]
  },
  {
   "cell_type": "code",
   "execution_count": 6,
   "metadata": {},
   "outputs": [],
   "source": [
    "import sys\n",
    "\n",
    "MAX_INT = sys.maxsize\n",
    "\n",
    "class Dijkstras():\n",
    "    \"\"\" This class uses Dijkstras algorithm to find the quickest route for a given grid.\n",
    "\n",
    "    It accepts the number in the cell as the time it takes to pass that cell.\n",
    "    It starts from the top left and tries to reach the bottom right cell.\n",
    "\n",
    "    Args:\n",
    "        grid : Numpy array representing the grid to solve.\n",
    "\n",
    "    Attributes:\n",
    "        grid: Numpy array representing the grid to solve.\n",
    "        rows: Number of rows of the grid provided.\n",
    "        columns: Number of columns of the grid provided.\n",
    "        visited: List of coordinate tuples for visited cells.\n",
    "        shortest_dist_to_start: Numpy array with the minimum distance for each cell.\n",
    "        previous_cell: Numpy array with previous cells on the quickest path from starting cell.\n",
    "        shortest_path: List of tuples representing the cell coordinates on the quickest path.\n",
    "\n",
    "    Private Attributes:\n",
    "        neighbours: List of coordinate tuples for adjacent cells.\n",
    "        current_cell: Tuple for coordinates of the current cell being visited.\n",
    "        closest_unvisited: Numpy array with the minimum distances to start for unvisited cells only.\n",
    "                        This array is used to select the next cell to visit.\n",
    "                        The distances for the visited cells are set to MAX_INT so they aren't chosen again.\n",
    "    \"\"\"\n",
    "    def __init__(self, grid):\n",
    "        self.grid = grid\n",
    "        self.rows = grid.shape[0]\n",
    "        self.columns = grid.shape[1]\n",
    "        self.visited = []\n",
    "        self.__neighbours = []\n",
    "        self.__current_cell = ()\n",
    "        self.shortest_dist_to_start = np.full((self.rows, self.columns), MAX_INT, \"int\")\n",
    "        self.__closest_unvisited = np.full((self.rows, self.columns), MAX_INT, \"int\")\n",
    "        self.previous_cell = np.zeros((grid.shape[0], grid.shape[1], 2), \"int\")\n",
    "        self.shortest_path = []\n",
    "\n",
    "    def compute(self):\n",
    "        \"\"\"Solve the grid to find and print the shortest path.\n",
    "\n",
    "        Returns:\n",
    "            The shortest path as a list of coordinate tuples.\n",
    "            The time taken to compute the shortest path.\n",
    "            The time cost of reaching the last cell with the shortest path.\n",
    "            Numpy array with shortest distance to start for each cell.\n",
    "\n",
    "        \"\"\"\n",
    "        start = timer()\n",
    "        self.shortest_dist_to_start[0, 0] = 0\n",
    "        self.__current_cell = (0, 0)\n",
    "\n",
    "        while True:\n",
    "            self.__get_neighbours_unvisited(self.__current_cell[0], self.__current_cell[1])\n",
    "            self.__update_neighbours()\n",
    "            self.visited.append(self.__current_cell)\n",
    "            if len(self.visited) == (self.rows * self.columns):\n",
    "                break\n",
    "            # Set the distance for current cell to MAX_INT in __closest_unvisited so the cell\n",
    "            # will not be chosen again for visitation. \n",
    "            self.__closest_unvisited[self.__current_cell] = MAX_INT\n",
    "            self.__current_cell = self.__choose_next_cell_to_visit()\n",
    "            self.__neighbours.clear()\n",
    "\n",
    "        self.create_shortest_path()\n",
    "        end = timer()\n",
    "        time = round(end - start, 5)\n",
    "        time_to_last_cell = self.shortest_dist_to_start[self.rows-1, self.columns-1]\n",
    "        times_to_start = self.shortest_dist_to_start\n",
    "        return self.shortest_path, time, time_to_last_cell, times_to_start\n",
    "\n",
    "    def __update_neighbours(self):\n",
    "        \"\"\"Makes updates for each neighbour cell.\n",
    "\n",
    "        Updates the min. distance to start and previous cell on the route.\n",
    "\n",
    "        Returns:\n",
    "            None. Updates self.shortest_dist_to_start, closest_unvisited & self.previous_cell.\n",
    "\n",
    "        \"\"\"\n",
    "        for neighbour in self.__neighbours:\n",
    "            new_dist_to_start  = self.shortest_dist_to_start[self.__current_cell] + self.grid[neighbour]\n",
    "            if new_dist_to_start < self.shortest_dist_to_start[neighbour]:\n",
    "                self.shortest_dist_to_start[neighbour] = new_dist_to_start\n",
    "                self.__closest_unvisited[neighbour] = new_dist_to_start\n",
    "                self.previous_cell[neighbour] = self.__current_cell\n",
    "\n",
    "    def __choose_next_cell_to_visit(self):\n",
    "        \"\"\"Choose the next unvisited cell that is closest to the starting point.\n",
    "\n",
    "        Returns:\n",
    "            Tuple of coordinates for the next cell to visit.\n",
    "\n",
    "        \"\"\"\n",
    "        next_cell_to_visit = (np.unravel_index(self.__closest_unvisited.argmin(), self.__closest_unvisited.shape))\n",
    "        return next_cell_to_visit\n",
    "\n",
    "    def __get_neighbours_unvisited(self, i, j):\n",
    "        \"\"\" The class method finds the unvisited adjacent cells.\n",
    "\n",
    "        Args:\n",
    "            i: The row coordinate of the current cell.\n",
    "            j: The column coordinate of the current cell.\n",
    "\n",
    "        Returns:\n",
    "            None. Runs __check_if_visited function for each neighbour.\n",
    "\n",
    "        \"\"\"\n",
    "        if i + 1 < self.rows:\n",
    "            self.__check_if_visited(i+1, j)\n",
    "        if i - 1 >= 0:\n",
    "            self.__check_if_visited(i-1, j)\n",
    "        if j + 1 < self.columns:\n",
    "            self.__check_if_visited(i, j+1)\n",
    "        if j - 1 >= 0:\n",
    "            self.__check_if_visited(i, j-1)\n",
    "\n",
    "    def __check_if_visited(self, i, j):\n",
    "        \"\"\" The class method checks if the provided cells have been visited.\n",
    "\n",
    "        Args:\n",
    "            i: The row coordinate of the cell to check.\n",
    "            j: The column coordinate of the cell to check.\n",
    "\n",
    "        Returns:\n",
    "            None. Appends cell coordinates to self.__neighbours if not visited.\n",
    "\n",
    "        \"\"\"\n",
    "        if (i, j) not in self.visited:\n",
    "            self.__neighbours.append((i, j))\n",
    "\n",
    "    def create_shortest_path(self):\n",
    "        \"\"\" Creates the shortest path from self.previous_cell.\n",
    "\n",
    "        Returns:\n",
    "           List of tuples representing the shortest path.\n",
    "\n",
    "        \"\"\"\n",
    "        last_cell_visited = (self.rows-1, self.columns-1)\n",
    "        while last_cell_visited != (0, 0):\n",
    "            self.shortest_path.append(last_cell_visited)\n",
    "            last_cell_visited = tuple(self.previous_cell[last_cell_visited])\n",
    "        self.shortest_path.reverse()\n",
    "        return self.shortest_path\n"
   ]
  },
  {
   "cell_type": "code",
   "execution_count": 6,
   "metadata": {},
   "outputs": [
    {
     "name": "stdout",
     "output_type": "stream",
     "text": [
      "Shortest path found: [(1, 0), (1, 1), (2, 1), (3, 1), (3, 2), (4, 2), (5, 2), (6, 2), (7, 2), (7, 3), (8, 3), (9, 3), (9, 4), (9, 5), (9, 6), (9, 7), (9, 8), (9, 9)]\n",
      "Time taken to solve: 0.00333\n",
      "Total time to last cell: 58\n",
      "Distances to start:\n",
      " [[ 0  4 13 19 21 26 29 38 40 43]\n",
      " [ 3  8 10 12 19 20 26 35 44 45]\n",
      " [11 10 19 21 28 21 30 38 44 46]\n",
      " [17 17 18 19 23 24 28 31 36 41]\n",
      " [23 22 19 20 27 27 35 36 44 48]\n",
      " [32 28 23 28 33 30 38 37 40 44]\n",
      " [41 34 30 32 34 35 40 44 44 45]\n",
      " [40 36 31 32 39 41 44 46 49 51]\n",
      " [48 41 36 33 39 45 52 53 58 60]\n",
      " [48 45 41 34 36 38 46 47 55 58]]\n"
     ]
    }
   ],
   "source": [
    "board_solver = Dijkstras(board)\n",
    "shortest_path, time, to_last_cell, to_start = board_solver.compute()\n",
    "print(f\"Shortest path found: {shortest_path}\\nTime taken to solve: {time}\")\n",
    "print(f\"Total time to last cell: {to_last_cell}\")\n",
    "print(f\"Distances to start:\\n {to_start}\")"
   ]
  },
  {
   "cell_type": "markdown",
   "metadata": {},
   "source": [
    "## Ant Colony Optimization"
   ]
  },
  {
   "cell_type": "code",
   "execution_count": 7,
   "metadata": {},
   "outputs": [],
   "source": [
    "class Aco():\n",
    "    \"\"\" This class uses Ant Colony Optimization to find the quickest route for a given grid.\n",
    "\n",
    "    It accepts the number in the cell as the time it takes to pass that cell.\n",
    "    It starts from the top left and tries to reach the bottom right cell.\n",
    "\n",
    "    Args:\n",
    "        grid : Numpy array representing the grid to solve.\n",
    "\n",
    "    Attributes:\n",
    "        grid: Numpy array representing the grid to solve.\n",
    "        rows: Number of rows of the grid provided.\n",
    "        columns: Number of columns of the grid provided.\n",
    "        ants: Number of ants to send to explore the grid.\n",
    "        its: Number of iterations to repeat the algorithm.\n",
    "        evap: Evaporation rate.\n",
    "        pheromone: The amount of pheromone to be deposited by each ant.\n",
    "        pheromone_matrix: Numpy array to hold total pheromone deposit for all cells.\n",
    "\n",
    "    Private Attributes:\n",
    "        visited: Nested list of coordinate lists of visited cells for each ant.\n",
    "        delta_pheromones: List of the delta_pheromone for each ant.\n",
    "        neighbours: List of lists with coordinates of the adjacent cells.\n",
    "        current_cell: List that holds coordinates of the current cell being visited.\n",
    "        final_cell: List that holds coordinates of the last cell.\n",
    "        distance_travelled: Total distance travelled by an ant.\n",
    "\n",
    "    \"\"\"\n",
    "\n",
    "    def __init__(self, grid, ants=1000, iteration=10, evaporation=0.1, pheromone_per_ant=100):\n",
    "        self.grid = grid\n",
    "        self.rows = grid.shape[0]\n",
    "        self.columns = grid.shape[1]\n",
    "        self.ants = ants\n",
    "        self.its = iteration\n",
    "        self.evap = evaporation\n",
    "        self.pheromone = pheromone_per_ant\n",
    "        self.__visited = []\n",
    "        self.__delta_pheromones = []\n",
    "        self.__neighbours = []\n",
    "        self.pheromone_matrix = np.ones((self.rows, self.columns))\n",
    "        self.__current_cell = []\n",
    "        self.__final_cell = [self.rows - 1, self.columns - 1]\n",
    "        self.__distance_travelled = 0\n",
    "\n",
    "    def compute(self):\n",
    "        \"\"\"Computes ACO algorithm.\n",
    "\n",
    "        Returns:\n",
    "            Pheromone matrix showing path usage.\n",
    "            The time taken to compute the shortest path.\n",
    "\n",
    "        \"\"\"\n",
    "        start = timer()\n",
    "        for iteration in range(self.its):\n",
    "            self.__visited.clear()\n",
    "            self.__delta_pheromones.clear()\n",
    "            for ant in range(self.ants):\n",
    "                self.__distance_travelled = 0\n",
    "                self.__current_cell = [0, 0]\n",
    "                self.__visited.append([])\n",
    "                while True:\n",
    "                    i, j = self.__current_cell[0], self.__current_cell[1]\n",
    "                    self.__move_to(i, j)\n",
    "                    if self.__current_cell == self.__final_cell:\n",
    "                        delta_pheromone = self.pheromone / self.__distance_travelled\n",
    "                        self.__delta_pheromones.append(delta_pheromone)\n",
    "                        break\n",
    "                    self.__neighbours.clear()\n",
    "                    self.__get_neighbours_unvisited(i, j)\n",
    "                    if not self.__neighbours:\n",
    "                        del self.__visited[-1]\n",
    "                        break\n",
    "                    if len(self.__neighbours) == 1:\n",
    "                        self.__current_cell = self.__neighbours[0]\n",
    "                    else:\n",
    "                        self.__current_cell = self.__choose_cell()\n",
    "            self.vaporise_pheromone()\n",
    "            self.add_pheromone()\n",
    "            #print(f\"{len(self.__visited)} ants reached target\")\n",
    "        results = np.round(self.pheromone_matrix)\n",
    "        end = timer()\n",
    "        return results, end-start\n",
    "\n",
    "    def vaporise_pheromone(self):\n",
    "        \"\"\"Vaporizes the pheromone on the grid after each ant.\n",
    "\n",
    "        Returns:\n",
    "            None.\n",
    "\n",
    "        \"\"\"\n",
    "        self.pheromone_matrix *= (1 - self.evap)\n",
    "\n",
    "    def __move_to(self, i, j):\n",
    "        \"\"\"Simulates moving to a new cell.\n",
    "\n",
    "        Args:\n",
    "            i: The row coordinate of new cell.\n",
    "            j: The column coordinate of the new cell.\n",
    "\n",
    "        Returns:\n",
    "            None. Updates self.__visited & self.__distance_travelled lists.\n",
    "\n",
    "        \"\"\"\n",
    "        self.__visited[-1].append([i, j])\n",
    "        self.__distance_travelled += self.grid[i, j]\n",
    "\n",
    "    def __get_neighbours_unvisited(self, i, j):\n",
    "        \"\"\" The class method finds the unvisited adjacent cells.\n",
    "\n",
    "        Args:\n",
    "            i: The row coordinate of the current cell.\n",
    "            j: The column coordinate of the current cell.\n",
    "\n",
    "        Returns:\n",
    "            None. Runs __check_visited function for each neighbour.\n",
    "\n",
    "        \"\"\"\n",
    "        if i + 1 < self.rows:\n",
    "            self.__check_visited(i+1, j)\n",
    "        if i - 1 >= 0:\n",
    "            self.__check_visited(i-1, j)\n",
    "        if j + 1 < self.columns:\n",
    "            self.__check_visited(i, j+1)\n",
    "        if j - 1 >= 0:\n",
    "            self.__check_visited(i, j-1)\n",
    "\n",
    "    def __check_visited(self, i, j):\n",
    "        \"\"\" The class method checks if the provided cells have been visited.\n",
    "\n",
    "        Args:\n",
    "            i: The row coordinate of the cell to check.\n",
    "            j: The column coordinate of the cell to check.\n",
    "\n",
    "        Returns:\n",
    "            None. Appends cell coordinates to self.__neighbours if not visited.\n",
    "\n",
    "        \"\"\"\n",
    "        if [i, j] not in self.__visited[-1]:\n",
    "            self.__neighbours.append([i, j])\n",
    "        return 0\n",
    "\n",
    "    def __choose_cell(self):\n",
    "        \"\"\" The class method chooses which neighbour to visit next.\n",
    "\n",
    "        It calculates the probability of choosing each neighbour and makes a random choice.\n",
    "\n",
    "        Returns:\n",
    "            A list holding the coordinates of the next cell to visit.\n",
    "\n",
    "        \"\"\"\n",
    "        neighbours_total = 0\n",
    "        neighbour_no = len(self.__neighbours)\n",
    "        probability = np.zeros(neighbour_no)\n",
    "\n",
    "        for i, cell in enumerate(self.__neighbours):\n",
    "            visibility = 1 / self.grid[cell[0], cell[1]]\n",
    "            cell_pheromone = self.pheromone_matrix[cell[0], cell[1]]\n",
    "            neighbours_total += visibility * cell_pheromone\n",
    "            probability[i] = visibility * cell_pheromone\n",
    "\n",
    "        probability /= neighbours_total\n",
    "        #normalisation in case sum not equal to 1\n",
    "        probability /= probability.sum()\n",
    "        return self.__neighbours[np.random.choice(neighbour_no, p=probability)]\n",
    "\n",
    "    def add_pheromone(self):\n",
    "        \"\"\" The class method adds_pheromone to visited cells at the end of each iteration.\n",
    "\n",
    "        Returns:\n",
    "            None. Adds delta_pheromone to pheromone_matrix numpy array for visited cells.\n",
    "\n",
    "        \"\"\"\n",
    "        for ant in range(len(self.__visited)):\n",
    "            for cell in self.__visited[ant]:\n",
    "                self.pheromone_matrix[cell[0], cell[1]] += self.__delta_pheromones[ant]\n"
   ]
  },
  {
   "cell_type": "code",
   "execution_count": 8,
   "metadata": {},
   "outputs": [
    {
     "name": "stdout",
     "output_type": "stream",
     "text": [
      "Pheromone deposit matrix showing path usage:\n",
      " [[1814.  672.  316.  331.  376.  223.  110.   52.   53.   49.]\n",
      " [1520. 1645. 1073.  995.  792.  892.  112.   24.   24.   55.]\n",
      " [ 779. 1157.  433.  239.   67.  898.  145.   39.   40.   56.]\n",
      " [ 415.  831. 1258. 1191.  441.  967.  276.  256.  101.   72.]\n",
      " [ 284.  446. 1283. 1181.  307.  736.   87.  239.   63.   63.]\n",
      " [ 198.  453.  894.  401.  397.  683.  102.  361.  306.  201.]\n",
      " [ 149.  260.  746.  748.  644.  523.  159.  207.  329.  383.]\n",
      " [ 102.  209.  868. 1450.  143.  156.  255.  410.  292.  346.]\n",
      " [  33.   78.  175. 1453.   67.  167.  157.  333.  123.  312.]\n",
      " [  11.   19.   20. 1441. 1452. 1460. 1426. 1592. 1523. 1814.]]\n",
      "Time taken to solve:8.586980544\n"
     ]
    }
   ],
   "source": [
    "board_solver = Aco(board)\n",
    "result, time = board_solver.compute()\n",
    "print(f\"Pheromone deposit matrix showing path usage:\\n {result}\")\n",
    "print(f\"Time taken to solve:{time}\") "
   ]
  },
  {
   "cell_type": "markdown",
   "metadata": {},
   "source": [
    "## Comparison of Execution Times"
   ]
  },
  {
   "cell_type": "code",
   "execution_count": 9,
   "metadata": {},
   "outputs": [],
   "source": [
    "import matplotlib.pyplot as plt\n",
    "\n",
    "def evaluate(grid_sizes, algorithm, title):\n",
    "    times_history = []\n",
    "    board_sizes = []\n",
    "    for grid_size in grid_sizes:\n",
    "        board = create_board(grid_size[0], grid_size[1], display_grid = \"False\")\n",
    "        if algorithm == \"naive_approach\":\n",
    "            board_solver = NaiveApp(board)\n",
    "        if algorithm == \"dijkstras\":\n",
    "            board_solver = Dijkstras(board)\n",
    "        if algorithm == \"aco\":\n",
    "            board_solver = Aco(board)\n",
    "        time_taken = board_solver.compute()[1]\n",
    "        times_history.append(time_taken)\n",
    "        board_size = grid_size[0] * grid_size[1]\n",
    "        board_sizes.append(board_size)\n",
    "\n",
    "       \n",
    "    plt.figure(figsize=(16,8))  \n",
    "    fig, ax = plt.subplots()\n",
    "    graph = ax.plot(board_sizes, times_history)\n",
    "    ax.set_title(title, fontsize=15)\n",
    "    ax.set_xlabel(\"Board sizes in number of total cells\", fontsize=15)\n",
    "    ax.set_ylabel(\"Time taken in seconds\", fontsize=15)\n",
    "    plt.show()\n",
    "    "
   ]
  },
  {
   "cell_type": "code",
   "execution_count": 16,
   "metadata": {},
   "outputs": [
    {
     "data": {
      "text/plain": [
       "<Figure size 1152x576 with 0 Axes>"
      ]
     },
     "metadata": {},
     "output_type": "display_data"
    },
    {
     "data": {
      "image/png": "[encoded data removed]",
      "text/plain": [
       "<Figure size 432x288 with 1 Axes>"
      ]
     },
     "metadata": {
      "needs_background": "light"
     },
     "output_type": "display_data"
    }
   ],
   "source": [
    "grids_to_test = [(5,5), (5,10), (10,10), (10,15), (15,15), (20, 20)]\n",
    "evaluate(grids_to_test, \"naive_approach\", \"Naive Approach\")"
   ]
  },
  {
   "cell_type": "code",
   "execution_count": 12,
   "metadata": {},
   "outputs": [
    {
     "data": {
      "text/plain": [
       "<Figure size 1152x576 with 0 Axes>"
      ]
     },
     "metadata": {},
     "output_type": "display_data"
    },
    {
     "data": {
      "image/png": "[encoded data removed]",
      "text/plain": [
       "<Figure size 432x288 with 1 Axes>"
      ]
     },
     "metadata": {
      "needs_background": "light"
     },
     "output_type": "display_data"
    }
   ],
   "source": [
    "evaluate(grids_to_test, \"dijkstras\", \"Dijkstra's Algorithm\")"
   ]
  },
  {
   "cell_type": "code",
   "execution_count": 14,
   "metadata": {},
   "outputs": [
    {
     "data": {
      "text/plain": [
       "<Figure size 1152x576 with 0 Axes>"
      ]
     },
     "metadata": {},
     "output_type": "display_data"
    },
    {
     "data": {
      "image/png": "[encoded data removed]",
      "text/plain": [
       "<Figure size 432x288 with 1 Axes>"
      ]
     },
     "metadata": {
      "needs_background": "light"
     },
     "output_type": "display_data"
    }
   ],
   "source": [
    "evaluate(grids_to_test, \"aco\", \"Ant Colony Optimization\")"
   ]
  },
  {
   "cell_type": "code",
   "execution_count": null,
   "metadata": {},
   "outputs": [],
   "source": []
  }
 ],
 "metadata": {
  "kernelspec": {
   "display_name": "Python 3",
   "language": "python",
   "name": "python3"
  },
  "language_info": {
   "codemirror_mode": {
    "name": "ipython",
    "version": 3
   },
   "file_extension": ".py",
   "mimetype": "text/x-python",
   "name": "python",
   "nbconvert_exporter": "python",
   "pygments_lexer": "ipython3",
   "version": "3.7.9"
  }
 },
 "nbformat": 4,
 "nbformat_minor": 4
}
